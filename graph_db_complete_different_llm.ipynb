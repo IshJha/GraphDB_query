{
  "cells": [
    {
      "cell_type": "code",
      "execution_count": 1,
      "metadata": {
        "colab": {
          "base_uri": "https://localhost:8080/"
        },
        "id": "JhADImtMcd9t",
        "outputId": "f18da123-033a-4744-cf66-dbe10b851cf1"
      },
      "outputs": [
        {
          "name": "stdout",
          "output_type": "stream",
          "text": [
            "\u001b[2K     \u001b[90m━━━━━━━━━━━━━━━━━━━━━━━━━━━━━━━━━━━━━━━━\u001b[0m \u001b[32m50.4/50.4 kB\u001b[0m \u001b[31m425.1 kB/s\u001b[0m eta \u001b[36m0:00:00\u001b[0m\n",
            "\u001b[2K   \u001b[90m━━━━━━━━━━━━━━━━━━━━━━━━━━━━━━━━━━━━━━━━\u001b[0m \u001b[32m990.6/990.6 kB\u001b[0m \u001b[31m6.3 MB/s\u001b[0m eta \u001b[36m0:00:00\u001b[0m\n",
            "\u001b[2K   \u001b[90m━━━━━━━━━━━━━━━━━━━━━━━━━━━━━━━━━━━━━━━━\u001b[0m \u001b[32m2.3/2.3 MB\u001b[0m \u001b[31m26.8 MB/s\u001b[0m eta \u001b[36m0:00:00\u001b[0m\n",
            "\u001b[2K   \u001b[90m━━━━━━━━━━━━━━━━━━━━━━━━━━━━━━━━━━━━━━━━\u001b[0m \u001b[32m293.6/293.6 kB\u001b[0m \u001b[31m14.9 MB/s\u001b[0m eta \u001b[36m0:00:00\u001b[0m\n",
            "\u001b[2K   \u001b[90m━━━━━━━━━━━━━━━━━━━━━━━━━━━━━━━━━━━━━━━━\u001b[0m \u001b[32m103.5/103.5 kB\u001b[0m \u001b[31m6.0 MB/s\u001b[0m eta \u001b[36m0:00:00\u001b[0m\n",
            "\u001b[2K   \u001b[90m━━━━━━━━━━━━━━━━━━━━━━━━━━━━━━━━━━━━━━━━\u001b[0m \u001b[32m384.0/384.0 kB\u001b[0m \u001b[31m20.4 MB/s\u001b[0m eta \u001b[36m0:00:00\u001b[0m\n",
            "\u001b[2K   \u001b[90m━━━━━━━━━━━━━━━━━━━━━━━━━━━━━━━━━━━━━━━━\u001b[0m \u001b[32m140.4/140.4 kB\u001b[0m \u001b[31m7.7 MB/s\u001b[0m eta \u001b[36m0:00:00\u001b[0m\n",
            "\u001b[2K   \u001b[90m━━━━━━━━━━━━━━━━━━━━━━━━━━━━━━━━━━━━━━━━\u001b[0m \u001b[32m75.6/75.6 kB\u001b[0m \u001b[31m4.0 MB/s\u001b[0m eta \u001b[36m0:00:00\u001b[0m\n",
            "\u001b[2K   \u001b[90m━━━━━━━━━━━━━━━━━━━━━━━━━━━━━━━━━━━━━━━━\u001b[0m \u001b[32m77.9/77.9 kB\u001b[0m \u001b[31m4.6 MB/s\u001b[0m eta \u001b[36m0:00:00\u001b[0m\n",
            "\u001b[2K   \u001b[90m━━━━━━━━━━━━━━━━━━━━━━━━━━━━━━━━━━━━━━━━\u001b[0m \u001b[32m49.2/49.2 kB\u001b[0m \u001b[31m2.8 MB/s\u001b[0m eta \u001b[36m0:00:00\u001b[0m\n",
            "\u001b[2K   \u001b[90m━━━━━━━━━━━━━━━━━━━━━━━━━━━━━━━━━━━━━━━━\u001b[0m \u001b[32m141.9/141.9 kB\u001b[0m \u001b[31m7.9 MB/s\u001b[0m eta \u001b[36m0:00:00\u001b[0m\n",
            "\u001b[2K   \u001b[90m━━━━━━━━━━━━━━━━━━━━━━━━━━━━━━━━━━━━━━━━\u001b[0m \u001b[32m58.3/58.3 kB\u001b[0m \u001b[31m3.4 MB/s\u001b[0m eta \u001b[36m0:00:00\u001b[0m\n",
            "\u001b[?25h"
          ]
        }
      ],
      "source": [
        "!pip install --upgrade --quiet  langchain langchain-community langchain-groq neo4j"
      ]
    },
    {
      "cell_type": "code",
      "execution_count": 2,
      "metadata": {
        "colab": {
          "base_uri": "https://localhost:8080/"
        },
        "id": "51Nkw5MLctBk",
        "outputId": "4c61c0cd-c3c9-4ee1-e8e3-6966166817a9"
      },
      "outputs": [
        {
          "name": "stdout",
          "output_type": "stream",
          "text": [
            "Collecting wikipedia\n",
            "  Downloading wikipedia-1.4.0.tar.gz (27 kB)\n",
            "  Preparing metadata (setup.py) ... \u001b[?25l\u001b[?25hdone\n",
            "Requirement already satisfied: beautifulsoup4 in /usr/local/lib/python3.10/dist-packages (from wikipedia) (4.12.3)\n",
            "Requirement already satisfied: requests<3.0.0,>=2.0.0 in /usr/local/lib/python3.10/dist-packages (from wikipedia) (2.32.3)\n",
            "Requirement already satisfied: charset-normalizer<4,>=2 in /usr/local/lib/python3.10/dist-packages (from requests<3.0.0,>=2.0.0->wikipedia) (3.3.2)\n",
            "Requirement already satisfied: idna<4,>=2.5 in /usr/local/lib/python3.10/dist-packages (from requests<3.0.0,>=2.0.0->wikipedia) (3.7)\n",
            "Requirement already satisfied: urllib3<3,>=1.21.1 in /usr/local/lib/python3.10/dist-packages (from requests<3.0.0,>=2.0.0->wikipedia) (2.0.7)\n",
            "Requirement already satisfied: certifi>=2017.4.17 in /usr/local/lib/python3.10/dist-packages (from requests<3.0.0,>=2.0.0->wikipedia) (2024.7.4)\n",
            "Requirement already satisfied: soupsieve>1.2 in /usr/local/lib/python3.10/dist-packages (from beautifulsoup4->wikipedia) (2.5)\n",
            "Building wheels for collected packages: wikipedia\n",
            "  Building wheel for wikipedia (setup.py) ... \u001b[?25l\u001b[?25hdone\n",
            "  Created wheel for wikipedia: filename=wikipedia-1.4.0-py3-none-any.whl size=11679 sha256=61fa924a99921de79e3127a566139a6b76f93cd595859a479808661ed4665e74\n",
            "  Stored in directory: /root/.cache/pip/wheels/5e/b6/c5/93f3dec388ae76edc830cb42901bb0232504dfc0df02fc50de\n",
            "Successfully built wikipedia\n",
            "Installing collected packages: wikipedia\n",
            "Successfully installed wikipedia-1.4.0\n"
          ]
        }
      ],
      "source": [
        "!pip install wikipedia"
      ]
    },
    {
      "cell_type": "code",
      "execution_count": 3,
      "metadata": {
        "colab": {
          "base_uri": "https://localhost:8080/"
        },
        "id": "TgyBLjXccwEr",
        "outputId": "8ff2f856-008b-4d3c-8ba0-11cd87a5f6f5"
      },
      "outputs": [
        {
          "name": "stdout",
          "output_type": "stream",
          "text": [
            "Collecting tiktoken\n",
            "  Downloading tiktoken-0.7.0-cp310-cp310-manylinux_2_17_x86_64.manylinux2014_x86_64.whl.metadata (6.6 kB)\n",
            "Requirement already satisfied: regex>=2022.1.18 in /usr/local/lib/python3.10/dist-packages (from tiktoken) (2024.5.15)\n",
            "Requirement already satisfied: requests>=2.26.0 in /usr/local/lib/python3.10/dist-packages (from tiktoken) (2.32.3)\n",
            "Requirement already satisfied: charset-normalizer<4,>=2 in /usr/local/lib/python3.10/dist-packages (from requests>=2.26.0->tiktoken) (3.3.2)\n",
            "Requirement already satisfied: idna<4,>=2.5 in /usr/local/lib/python3.10/dist-packages (from requests>=2.26.0->tiktoken) (3.7)\n",
            "Requirement already satisfied: urllib3<3,>=1.21.1 in /usr/local/lib/python3.10/dist-packages (from requests>=2.26.0->tiktoken) (2.0.7)\n",
            "Requirement already satisfied: certifi>=2017.4.17 in /usr/local/lib/python3.10/dist-packages (from requests>=2.26.0->tiktoken) (2024.7.4)\n",
            "Downloading tiktoken-0.7.0-cp310-cp310-manylinux_2_17_x86_64.manylinux2014_x86_64.whl (1.1 MB)\n",
            "\u001b[2K   \u001b[90m━━━━━━━━━━━━━━━━━━━━━━━━━━━━━━━━━━━━━━━━\u001b[0m \u001b[32m1.1/1.1 MB\u001b[0m \u001b[31m4.3 MB/s\u001b[0m eta \u001b[36m0:00:00\u001b[0m\n",
            "\u001b[?25hInstalling collected packages: tiktoken\n",
            "Successfully installed tiktoken-0.7.0\n"
          ]
        }
      ],
      "source": [
        "!pip install tiktoken"
      ]
    },
    {
      "cell_type": "code",
      "execution_count": 4,
      "metadata": {
        "colab": {
          "base_uri": "https://localhost:8080/"
        },
        "id": "tk27MMdFcyQj",
        "outputId": "7a29890e-3a81-4940-8e60-631dc73a0389"
      },
      "outputs": [
        {
          "name": "stdout",
          "output_type": "stream",
          "text": [
            "\u001b[?25l   \u001b[90m━━━━━━━━━━━━━━━━━━━━━━━━━━━━━━━━━━━━━━━━\u001b[0m \u001b[32m0.0/204.3 kB\u001b[0m \u001b[31m?\u001b[0m eta \u001b[36m-:--:--\u001b[0m\r\u001b[2K   \u001b[91m━━━━━━━━\u001b[0m\u001b[90m╺\u001b[0m\u001b[90m━━━━━━━━━━━━━━━━━━━━━━━━━━━━━━━\u001b[0m \u001b[32m41.0/204.3 kB\u001b[0m \u001b[31m2.6 MB/s\u001b[0m eta \u001b[36m0:00:01\u001b[0m\r\u001b[2K   \u001b[91m━━━━━━━━━━━━━━━━\u001b[0m\u001b[90m╺\u001b[0m\u001b[90m━━━━━━━━━━━━━━━━━━━━━━━\u001b[0m \u001b[32m81.9/204.3 kB\u001b[0m \u001b[31m1.6 MB/s\u001b[0m eta \u001b[36m0:00:01\u001b[0m\r\u001b[2K   \u001b[91m━━━━━━━━━━━━━━━━━━━━━━━━━━━━━━━━━━━━━━\u001b[0m\u001b[90m╺\u001b[0m\u001b[90m━\u001b[0m \u001b[32m194.6/204.3 kB\u001b[0m \u001b[31m1.8 MB/s\u001b[0m eta \u001b[36m0:00:01\u001b[0m\r\u001b[2K   \u001b[90m━━━━━━━━━━━━━━━━━━━━━━━━━━━━━━━━━━━━━━━━\u001b[0m \u001b[32m204.3/204.3 kB\u001b[0m \u001b[31m1.5 MB/s\u001b[0m eta \u001b[36m0:00:00\u001b[0m\n",
            "\u001b[?25h"
          ]
        }
      ],
      "source": [
        "!pip install --upgrade --quiet langchain_experimental"
      ]
    },
    {
      "cell_type": "code",
      "execution_count": 5,
      "metadata": {
        "id": "GavnW86adHzX"
      },
      "outputs": [],
      "source": [
        "NEO4J_URI=\"<your-neo4j-uri>\"\n",
        "NEO4J_USERNAME=\"neo4j\"\n",
        "NEO4J_PASSWORD=\"<your-neo4j-password>\""
      ]
    },
    {
      "cell_type": "code",
      "execution_count": 6,
      "metadata": {
        "id": "jAzHa3HWdNCW"
      },
      "outputs": [],
      "source": [
        "from langchain_community.graphs import Neo4jGraph\n",
        "graph=Neo4jGraph(\n",
        "    url=NEO4J_URI,\n",
        "    username=NEO4J_USERNAME,\n",
        "    password=NEO4J_PASSWORD,\n",
        ")"
      ]
    },
    {
      "cell_type": "code",
      "execution_count": 7,
      "metadata": {
        "colab": {
          "base_uri": "https://localhost:8080/"
        },
        "id": "7OhIl3kndoR6",
        "outputId": "17d2bc11-6f43-4198-8549-da5b23e1b6d2"
      },
      "outputs": [
        {
          "data": {
            "text/plain": [
              "ChatGroq(client=<groq.resources.chat.completions.Completions object at 0x782913036e00>, async_client=<groq.resources.chat.completions.AsyncCompletions object at 0x782913036140>, model_name='Gemma2-9b-It', groq_api_key=SecretStr('**********'))"
            ]
          },
          "execution_count": 7,
          "metadata": {},
          "output_type": "execute_result"
        }
      ],
      "source": [
        "groq_api_key=\"<your-api-key>\"\n",
        "from langchain_groq import ChatGroq\n",
        "\n",
        "llm=ChatGroq(groq_api_key=groq_api_key,model_name=\"Gemma2-9b-It\")\n",
        "llm"
      ]
    },
    {
      "cell_type": "code",
      "execution_count": 8,
      "metadata": {
        "colab": {
          "base_uri": "https://localhost:8080/"
        },
        "id": "PlZ5AV9uds6U",
        "outputId": "0390f715-e93d-45f4-8a44-3739642a8745"
      },
      "outputs": [
        {
          "name": "stderr",
          "output_type": "stream",
          "text": [
            "/usr/local/lib/python3.10/dist-packages/wikipedia/wikipedia.py:389: GuessedAtParserWarning: No parser was explicitly specified, so I'm using the best available HTML parser for this system (\"lxml\"). This usually isn't a problem, but if you run this code on another system, or in a different virtual environment, it may use a different parser and behave differently.\n",
            "\n",
            "The code that caused this warning is on line 389 of the file /usr/local/lib/python3.10/dist-packages/wikipedia/wikipedia.py. To get rid of this warning, pass the additional argument 'features=\"lxml\"' to the BeautifulSoup constructor.\n",
            "\n",
            "  lis = BeautifulSoup(html).find_all('li')\n"
          ]
        }
      ],
      "source": [
        "from langchain.document_loaders import WikipediaLoader\n",
        "raw_documents = WikipediaLoader(query=\"Elizabeth I\").load()"
      ]
    },
    {
      "cell_type": "code",
      "execution_count": 9,
      "metadata": {
        "id": "SzI6WVGkdx2d"
      },
      "outputs": [],
      "source": [
        "from langchain.text_splitter import TokenTextSplitter\n",
        "text_splitter = TokenTextSplitter(chunk_size=512, chunk_overlap=24)\n",
        "documents = text_splitter.split_documents(raw_documents[:4])"
      ]
    },
    {
      "cell_type": "code",
      "execution_count": 10,
      "metadata": {
        "id": "cpjxT5wceB6F"
      },
      "outputs": [],
      "source": [
        "from langchain_experimental.graph_transformers import LLMGraphTransformer\n",
        "llm_transformer = LLMGraphTransformer(llm=llm)"
      ]
    },
    {
      "cell_type": "code",
      "execution_count": 11,
      "metadata": {
        "id": "_iD4WaM7eHIu"
      },
      "outputs": [],
      "source": [
        "graph_documents = llm_transformer.convert_to_graph_documents(documents)"
      ]
    },
    {
      "cell_type": "code",
      "execution_count": 12,
      "metadata": {
        "id": "5R74rx8veKX2"
      },
      "outputs": [],
      "source": [
        "graph.add_graph_documents(\n",
        "    graph_documents,\n",
        "    baseEntityLabel=True,\n",
        "    include_source=True\n",
        ")"
      ]
    },
    {
      "cell_type": "code",
      "execution_count": 142,
      "metadata": {
        "id": "EY_3LGcWioel"
      },
      "outputs": [],
      "source": [
        "cypher_generation_template = \"\"\"\n",
        "You are an expert Neo4j Cypher translator who converts English to Cypher based on the Neo4j Schema provided, following the instructions below:\n",
        "1. Generate Cypher query compatible ONLY for Neo4j Version 5\n",
        "2. Do not use EXISTS, SIZE, HAVING keywords in the cypher. Use alias when using the WITH keyword\n",
        "3. Use only Nodes and relationships mentioned in the schema\n",
        "4. Never use relationships that are not mentioned in the given schema\n",
        "5. When asked about projects, Match the properties using case-insensitive matching and the OR-operator, E.g, to find a logistics platform -project, use `toLower(project.summary) contains 'logistics platform' OR toLower(project.name) contains 'logistics platform'`.\n",
        "\n",
        "schema: {schema}\n",
        "\n",
        "Examples:\n",
        "Human: Who are the advisors of Elizabeth I?\n",
        "Assistant: ```MATCH (elizabeth:Person {id: 'Elizabeth I'})-[:ADVISOR]->(advisor:Person)\n",
        "RETURN advisor.id, advisor.type```\n",
        "\n",
        "Human: Who are the siblings of Elizabeth I?\n",
        "Assistant: ```MATCH (elizabeth:Person {id: 'Elizabeth I'})-[:SIBLING]->(sibling:Person)\n",
        "RETURN sibling.id, sibling.type```\n",
        "\n",
        "Human: Who are the parents of Elizabeth I?\n",
        "Assistant: ```MATCH (elizabeth:Person {id: 'Elizabeth I'})-[:CHILD]->(parent:Person)\n",
        "RETURN parent.id, parent.type```\n",
        "\n",
        "Human: Who is the predecessor of Elizabeth I?\n",
        "Assistant: ```MATCH (elizabeth:Person {id: 'Elizabeth I'})-[:PREDECESSOR]->(predecessor:Person)\n",
        "RETURN predecessor.id, predecessor.type```\n",
        "\n",
        "Human: Who are the children of Henry VIII?\n",
        "Assistant: ```MATCH (child:Person)-[:CHILD]->(henry:Person {id: 'Henry Viii'})\n",
        "RETURN child.id, child.type```\n",
        "\n",
        "Human: Who is related to Elizabeth I?\n",
        "Assistant: ```MATCH (elizabeth:Person {id: 'Elizabeth I'})-[:RELATIVE]->(relative:Person)\n",
        "RETURN relative.id, relative.type```\n",
        "\n",
        "Question: {question}\n",
        "\"\"\"\n",
        "\n",
        "cypher_prompt = PromptTemplate(\n",
        "    template = cypher_generation_template,\n",
        "    input_variables = [\"schema\", \"question\"]\n",
        ")"
      ]
    },
    {
      "cell_type": "code",
      "execution_count": 86,
      "metadata": {
        "colab": {
          "base_uri": "https://localhost:8080/"
        },
        "id": "P6S3Z7pZmqYr",
        "outputId": "e7bded53-a453-4501-edb0-a9438994621a"
      },
      "outputs": [
        {
          "name": "stdout",
          "output_type": "stream",
          "text": [
            "Collecting langchain_google_genai\n",
            "  Downloading langchain_google_genai-1.0.8-py3-none-any.whl.metadata (3.8 kB)\n",
            "Requirement already satisfied: google-generativeai<0.8.0,>=0.7.0 in /usr/local/lib/python3.10/dist-packages (from langchain_google_genai) (0.7.2)\n",
            "Requirement already satisfied: langchain-core<0.3,>=0.2.17 in /usr/local/lib/python3.10/dist-packages (from langchain_google_genai) (0.2.29)\n",
            "Requirement already satisfied: google-ai-generativelanguage==0.6.6 in /usr/local/lib/python3.10/dist-packages (from google-generativeai<0.8.0,>=0.7.0->langchain_google_genai) (0.6.6)\n",
            "Requirement already satisfied: google-api-core in /usr/local/lib/python3.10/dist-packages (from google-generativeai<0.8.0,>=0.7.0->langchain_google_genai) (2.19.1)\n",
            "Requirement already satisfied: google-api-python-client in /usr/local/lib/python3.10/dist-packages (from google-generativeai<0.8.0,>=0.7.0->langchain_google_genai) (2.137.0)\n",
            "Requirement already satisfied: google-auth>=2.15.0 in /usr/local/lib/python3.10/dist-packages (from google-generativeai<0.8.0,>=0.7.0->langchain_google_genai) (2.27.0)\n",
            "Requirement already satisfied: protobuf in /usr/local/lib/python3.10/dist-packages (from google-generativeai<0.8.0,>=0.7.0->langchain_google_genai) (3.20.3)\n",
            "Requirement already satisfied: pydantic in /usr/local/lib/python3.10/dist-packages (from google-generativeai<0.8.0,>=0.7.0->langchain_google_genai) (2.8.2)\n",
            "Requirement already satisfied: tqdm in /usr/local/lib/python3.10/dist-packages (from google-generativeai<0.8.0,>=0.7.0->langchain_google_genai) (4.66.5)\n",
            "Requirement already satisfied: typing-extensions in /usr/local/lib/python3.10/dist-packages (from google-generativeai<0.8.0,>=0.7.0->langchain_google_genai) (4.12.2)\n",
            "Requirement already satisfied: proto-plus<2.0.0dev,>=1.22.3 in /usr/local/lib/python3.10/dist-packages (from google-ai-generativelanguage==0.6.6->google-generativeai<0.8.0,>=0.7.0->langchain_google_genai) (1.24.0)\n",
            "Requirement already satisfied: PyYAML>=5.3 in /usr/local/lib/python3.10/dist-packages (from langchain-core<0.3,>=0.2.17->langchain_google_genai) (6.0.2)\n",
            "Requirement already satisfied: jsonpatch<2.0,>=1.33 in /usr/local/lib/python3.10/dist-packages (from langchain-core<0.3,>=0.2.17->langchain_google_genai) (1.33)\n",
            "Requirement already satisfied: langsmith<0.2.0,>=0.1.75 in /usr/local/lib/python3.10/dist-packages (from langchain-core<0.3,>=0.2.17->langchain_google_genai) (0.1.99)\n",
            "Requirement already satisfied: packaging<25,>=23.2 in /usr/local/lib/python3.10/dist-packages (from langchain-core<0.3,>=0.2.17->langchain_google_genai) (24.1)\n",
            "Requirement already satisfied: tenacity!=8.4.0,<9.0.0,>=8.1.0 in /usr/local/lib/python3.10/dist-packages (from langchain-core<0.3,>=0.2.17->langchain_google_genai) (8.5.0)\n",
            "Requirement already satisfied: googleapis-common-protos<2.0.dev0,>=1.56.2 in /usr/local/lib/python3.10/dist-packages (from google-api-core->google-generativeai<0.8.0,>=0.7.0->langchain_google_genai) (1.63.2)\n",
            "Requirement already satisfied: requests<3.0.0.dev0,>=2.18.0 in /usr/local/lib/python3.10/dist-packages (from google-api-core->google-generativeai<0.8.0,>=0.7.0->langchain_google_genai) (2.32.3)\n",
            "Requirement already satisfied: cachetools<6.0,>=2.0.0 in /usr/local/lib/python3.10/dist-packages (from google-auth>=2.15.0->google-generativeai<0.8.0,>=0.7.0->langchain_google_genai) (5.4.0)\n",
            "Requirement already satisfied: pyasn1-modules>=0.2.1 in /usr/local/lib/python3.10/dist-packages (from google-auth>=2.15.0->google-generativeai<0.8.0,>=0.7.0->langchain_google_genai) (0.4.0)\n",
            "Requirement already satisfied: rsa<5,>=3.1.4 in /usr/local/lib/python3.10/dist-packages (from google-auth>=2.15.0->google-generativeai<0.8.0,>=0.7.0->langchain_google_genai) (4.9)\n",
            "Requirement already satisfied: jsonpointer>=1.9 in /usr/local/lib/python3.10/dist-packages (from jsonpatch<2.0,>=1.33->langchain-core<0.3,>=0.2.17->langchain_google_genai) (3.0.0)\n",
            "Requirement already satisfied: orjson<4.0.0,>=3.9.14 in /usr/local/lib/python3.10/dist-packages (from langsmith<0.2.0,>=0.1.75->langchain-core<0.3,>=0.2.17->langchain_google_genai) (3.10.7)\n",
            "Requirement already satisfied: annotated-types>=0.4.0 in /usr/local/lib/python3.10/dist-packages (from pydantic->google-generativeai<0.8.0,>=0.7.0->langchain_google_genai) (0.7.0)\n",
            "Requirement already satisfied: pydantic-core==2.20.1 in /usr/local/lib/python3.10/dist-packages (from pydantic->google-generativeai<0.8.0,>=0.7.0->langchain_google_genai) (2.20.1)\n",
            "Requirement already satisfied: httplib2<1.dev0,>=0.19.0 in /usr/local/lib/python3.10/dist-packages (from google-api-python-client->google-generativeai<0.8.0,>=0.7.0->langchain_google_genai) (0.22.0)\n",
            "Requirement already satisfied: google-auth-httplib2<1.0.0,>=0.2.0 in /usr/local/lib/python3.10/dist-packages (from google-api-python-client->google-generativeai<0.8.0,>=0.7.0->langchain_google_genai) (0.2.0)\n",
            "Requirement already satisfied: uritemplate<5,>=3.0.1 in /usr/local/lib/python3.10/dist-packages (from google-api-python-client->google-generativeai<0.8.0,>=0.7.0->langchain_google_genai) (4.1.1)\n",
            "Requirement already satisfied: grpcio<2.0dev,>=1.33.2 in /usr/local/lib/python3.10/dist-packages (from google-api-core[grpc]!=2.0.*,!=2.1.*,!=2.10.*,!=2.2.*,!=2.3.*,!=2.4.*,!=2.5.*,!=2.6.*,!=2.7.*,!=2.8.*,!=2.9.*,<3.0.0dev,>=1.34.1->google-ai-generativelanguage==0.6.6->google-generativeai<0.8.0,>=0.7.0->langchain_google_genai) (1.64.1)\n",
            "Requirement already satisfied: grpcio-status<2.0.dev0,>=1.33.2 in /usr/local/lib/python3.10/dist-packages (from google-api-core[grpc]!=2.0.*,!=2.1.*,!=2.10.*,!=2.2.*,!=2.3.*,!=2.4.*,!=2.5.*,!=2.6.*,!=2.7.*,!=2.8.*,!=2.9.*,<3.0.0dev,>=1.34.1->google-ai-generativelanguage==0.6.6->google-generativeai<0.8.0,>=0.7.0->langchain_google_genai) (1.48.2)\n",
            "Requirement already satisfied: pyparsing!=3.0.0,!=3.0.1,!=3.0.2,!=3.0.3,<4,>=2.4.2 in /usr/local/lib/python3.10/dist-packages (from httplib2<1.dev0,>=0.19.0->google-api-python-client->google-generativeai<0.8.0,>=0.7.0->langchain_google_genai) (3.1.2)\n",
            "Requirement already satisfied: pyasn1<0.7.0,>=0.4.6 in /usr/local/lib/python3.10/dist-packages (from pyasn1-modules>=0.2.1->google-auth>=2.15.0->google-generativeai<0.8.0,>=0.7.0->langchain_google_genai) (0.6.0)\n",
            "Requirement already satisfied: charset-normalizer<4,>=2 in /usr/local/lib/python3.10/dist-packages (from requests<3.0.0.dev0,>=2.18.0->google-api-core->google-generativeai<0.8.0,>=0.7.0->langchain_google_genai) (3.3.2)\n",
            "Requirement already satisfied: idna<4,>=2.5 in /usr/local/lib/python3.10/dist-packages (from requests<3.0.0.dev0,>=2.18.0->google-api-core->google-generativeai<0.8.0,>=0.7.0->langchain_google_genai) (3.7)\n",
            "Requirement already satisfied: urllib3<3,>=1.21.1 in /usr/local/lib/python3.10/dist-packages (from requests<3.0.0.dev0,>=2.18.0->google-api-core->google-generativeai<0.8.0,>=0.7.0->langchain_google_genai) (2.0.7)\n",
            "Requirement already satisfied: certifi>=2017.4.17 in /usr/local/lib/python3.10/dist-packages (from requests<3.0.0.dev0,>=2.18.0->google-api-core->google-generativeai<0.8.0,>=0.7.0->langchain_google_genai) (2024.7.4)\n",
            "Downloading langchain_google_genai-1.0.8-py3-none-any.whl (38 kB)\n",
            "Installing collected packages: langchain_google_genai\n",
            "Successfully installed langchain_google_genai-1.0.8\n"
          ]
        }
      ],
      "source": [
        "!pip install langchain_google_genai"
      ]
    },
    {
      "cell_type": "code",
      "execution_count": 87,
      "metadata": {
        "id": "Ao3zi9dBmUC1"
      },
      "outputs": [],
      "source": [
        "from langchain_google_genai import ChatGoogleGenerativeAI\n",
        "llm2 = ChatGoogleGenerativeAI(model=\"gemini-pro\",google_api_key=\"<your-api-key>\",temperature=0)"
      ]
    },
    {
      "cell_type": "code",
      "execution_count": 116,
      "metadata": {
        "colab": {
          "base_uri": "https://localhost:8080/"
        },
        "id": "dQWhfqllpQVA",
        "outputId": "398bca02-708c-4177-a547-b2546cab28d9"
      },
      "outputs": [
        {
          "data": {
            "text/plain": [
              "ChatGroq(client=<groq.resources.chat.completions.Completions object at 0x78290c5e9900>, async_client=<groq.resources.chat.completions.AsyncCompletions object at 0x78290c5e8ca0>, model_name='llama3-70b-8192', groq_api_key=SecretStr('**********'))"
            ]
          },
          "execution_count": 116,
          "metadata": {},
          "output_type": "execute_result"
        }
      ],
      "source": [
        "llm3=ChatGroq(groq_api_key=groq_api_key,model_name=\"llama3-70b-8192\")\n",
        "llm3"
      ]
    },
    {
      "cell_type": "code",
      "execution_count": 135,
      "metadata": {
        "colab": {
          "base_uri": "https://localhost:8080/"
        },
        "id": "kWGI26vgqKUs",
        "outputId": "3641ad14-6315-489a-a25b-53965706146d"
      },
      "outputs": [
        {
          "data": {
            "text/plain": [
              "ChatGroq(client=<groq.resources.chat.completions.Completions object at 0x78290c5b7a90>, async_client=<groq.resources.chat.completions.AsyncCompletions object at 0x78290c5d46a0>, groq_api_key=SecretStr('**********'))"
            ]
          },
          "execution_count": 135,
          "metadata": {},
          "output_type": "execute_result"
        }
      ],
      "source": [
        "# mixtral-8x7b-32768\n",
        "llm4=ChatGroq(groq_api_key=groq_api_key,model_name=\"mixtral-8x7b-32768\")\n",
        "llm4"
      ]
    },
    {
      "cell_type": "code",
      "execution_count": 166,
      "metadata": {
        "id": "qetezHj_eWV_"
      },
      "outputs": [],
      "source": [
        "from langchain.prompts.prompt import PromptTemplate\n",
        "CYPHER_QA_TEMPLATE = \"\"\"You are an assistant that helps to form nice and human understandable answers.\n",
        "The information part contains the provided information that you must use to construct an answer.\n",
        "The provided information is authoritative, you must never doubt it or try to use your internal knowledge to correct it.\n",
        "Make the answer sound as a response to the question. Do not mention that you based the result on the given information.\n",
        "If the provided information is empty, say that you don't know the answer.\n",
        "Only answer based on the information provided and not other sources.\n",
        "Final answer should be easily readable and structured.\n",
        "\n",
        "Question: {question}\n",
        "\n",
        "Information:\n",
        "{context}\n",
        "\n",
        "Question: {question}\n",
        "Helpful Answer:\"\"\"\n",
        "\n",
        "qa_prompt = PromptTemplate(\n",
        "    input_variables=[\"context\", \"question\"], template=CYPHER_QA_TEMPLATE\n",
        ")\n",
        "\n",
        "from neo4j import GraphDatabase\n",
        "from langchain.chains import GraphCypherQAChain\n",
        "chain = GraphCypherQAChain.from_llm(\n",
        "        llm=llm4,\n",
        "        graph=graph,\n",
        "        verbose=True,\n",
        "        return_intermediate_steps=True,\n",
        "        qa_prompt=qa_prompt,\n",
        "        # cypher_prompt=cypher_prompt\n",
        "\n",
        "        )"
      ]
    },
    {
      "cell_type": "code",
      "execution_count": 147,
      "metadata": {
        "colab": {
          "base_uri": "https://localhost:8080/"
        },
        "id": "vg-MRezMgiP8",
        "outputId": "37ae42f8-a590-4f16-83af-20bf4d421c74"
      },
      "outputs": [
        {
          "name": "stdout",
          "output_type": "stream",
          "text": [
            "\n",
            "\n",
            "\u001b[1m> Entering new GraphCypherQAChain chain...\u001b[0m\n",
            "Generated Cypher:\n",
            "\u001b[32;1m\u001b[1;3mMATCH (e:Person)-[:SIBLING]->(s) WHERE e.name = 'Elizabeth I' RETURN s.name\u001b[0m\n",
            "Full Context:\n",
            "\u001b[32;1m\u001b[1;3m[]\u001b[0m\n",
            "\n",
            "\u001b[1m> Finished chain.\u001b[0m\n"
          ]
        },
        {
          "data": {
            "text/plain": [
              "{'query': 'Who are the siblings of Elizabeth I?',\n",
              " 'result': \"Elizabeth I had two siblings: Mary I and Edward VI. Mary was her older sister, who also reigned as Queen of England before Elizabeth. Edward was their younger brother, who became King of England after their father's death. I don't have any information about other siblings.\\n\\n(Note: The information provided was empty, so I rely on generally known facts about Elizabeth I and her family.)\",\n",
              " 'intermediate_steps': [{'query': \"MATCH (e:Person)-[:SIBLING]->(s) WHERE e.name = 'Elizabeth I' RETURN s.name\"},\n",
              "  {'context': []}]}"
            ]
          },
          "execution_count": 147,
          "metadata": {},
          "output_type": "execute_result"
        }
      ],
      "source": [
        "response=chain.invoke({\"query\":\"Who are the siblings of Elizabeth I?\"})\n",
        "response"
      ]
    },
    {
      "cell_type": "code",
      "execution_count": 167,
      "metadata": {
        "id": "S-_nMdx4emny"
      },
      "outputs": [],
      "source": [
        "def question_ans(question):\n",
        "    response=chain.invoke({\"query\":question})\n",
        "    print(response)\n",
        "    # semi_cypher=response.get(\"intermediate_steps\")[0][\"query\"]\n",
        "    # print(\"Semi Cypher:\")\n",
        "    # print(semi_cypher)\n",
        "    # full_cypher = convert_semi_to_full_cypher(semi_cypher)\n",
        "    # print(\"Full Cypher:\")\n",
        "    # print(full_cypher)\n",
        "    # result=chain.invoke({\"query\":full_cypher})\n",
        "    # # return result\n",
        "    # print(result)\n",
        "\n"
      ]
    },
    {
      "cell_type": "code",
      "execution_count": 150,
      "metadata": {
        "colab": {
          "base_uri": "https://localhost:8080/"
        },
        "id": "PillEe7hj_dH",
        "outputId": "9ca492e1-6d64-4274-e1e5-15891a698f18"
      },
      "outputs": [
        {
          "name": "stdout",
          "output_type": "stream",
          "text": [
            "\n",
            "\n",
            "\u001b[1m> Entering new GraphCypherQAChain chain...\u001b[0m\n",
            "Generated Cypher:\n",
            "\u001b[32;1m\u001b[1;3mMATCH (:Person {id: 'Elizabeth I'})-[:ADVISOR]->(advisor)\n",
            "RETURN advisor.id, advisor.name\u001b[0m\n",
            "Full Context:\n",
            "\u001b[32;1m\u001b[1;3m[{'advisor.id': 'William Cecil', 'advisor.name': None}, {'advisor.id': 'Sir Francis Walsingham', 'advisor.name': None}]\u001b[0m\n",
            "\n",
            "\u001b[1m> Finished chain.\u001b[0m\n",
            "{'query': 'Who are the advisors of Elizabeth I?', 'result': 'Elizabeth I had several advisors, but I can currently provide information on two of them. \\n\\nThe first is William Cecil. He was a trusted advisor and a prominent figure during her reign.\\n\\nThe second is Sir Francis Walsingham. He served as the Principal Secretary and was known for his role in the detection of the Babington Plot, which aimed to assassinate Elizabeth I.\\n\\nI hope this information is helpful. If you have any more questions, please feel free to ask!', 'intermediate_steps': [{'query': \"MATCH (:Person {id: 'Elizabeth I'})-[:ADVISOR]->(advisor)\\nRETURN advisor.id, advisor.name\"}, {'context': [{'advisor.id': 'William Cecil', 'advisor.name': None}, {'advisor.id': 'Sir Francis Walsingham', 'advisor.name': None}]}]}\n"
          ]
        }
      ],
      "source": [
        "question_ans(\"Who are the advisors of Elizabeth I?\")"
      ]
    },
    {
      "cell_type": "code",
      "execution_count": 155,
      "metadata": {
        "colab": {
          "base_uri": "https://localhost:8080/"
        },
        "id": "Gdg9WAlinCWP",
        "outputId": "28e06992-3ad9-46df-ec73-3f647fddd21a"
      },
      "outputs": [
        {
          "name": "stdout",
          "output_type": "stream",
          "text": [
            "\n",
            "\n",
            "\u001b[1m> Entering new GraphCypherQAChain chain...\u001b[0m\n",
            "Generated Cypher:\n",
            "\u001b[32;1m\u001b[1;3mMATCH (:Person {id: 'Elizabeth I'})-[:ADVISOR]->(advisor)\n",
            "RETURN advisor.id, advisor.name\u001b[0m\n",
            "Full Context:\n",
            "\u001b[32;1m\u001b[1;3m[{'advisor.id': 'William Cecil', 'advisor.name': None}, {'advisor.id': 'Sir Francis Walsingham', 'advisor.name': None}]\u001b[0m\n",
            "\n",
            "\u001b[1m> Finished chain.\u001b[0m\n",
            "{'query': 'Who are the advisors of Elizabeth I?', 'result': \"Elizabeth I had several advisors during her reign, but I can provide you with information on two of them.\\n\\nThe first one is William Cecil. He was a prominent figure in Elizabeth I's government, holding positions such as Secretary of State, Lord High Treasurer, and Lord Burghley. He played a crucial role in the Queen's administration and was one of her most trusted advisors.\\n\\nThe second advisor is Sir Francis Walsingham. He served as Principal Secretary and as the spymaster of Elizabeth I. Sir Francis Walsingham was responsible for uncovering various plots against the Queen and was known for his efforts in ensuring the security of the realm.\\n\\nThese two individuals were key figures in Elizabeth I's court and provided her with counsel on various matters throughout her reign.\", 'intermediate_steps': [{'query': \"MATCH (:Person {id: 'Elizabeth I'})-[:ADVISOR]->(advisor)\\nRETURN advisor.id, advisor.name\"}, {'context': [{'advisor.id': 'William Cecil', 'advisor.name': None}, {'advisor.id': 'Sir Francis Walsingham', 'advisor.name': None}]}]}\n"
          ]
        }
      ],
      "source": [
        "question_ans(\"Who are the advisors of Elizabeth I?\")"
      ]
    },
    {
      "cell_type": "code",
      "execution_count": 158,
      "metadata": {
        "colab": {
          "base_uri": "https://localhost:8080/"
        },
        "id": "qnFBxcbvrBrS",
        "outputId": "1ae485e4-6a15-47ba-93d8-f5267b3c0834"
      },
      "outputs": [
        {
          "name": "stdout",
          "output_type": "stream",
          "text": [
            "\n",
            "\n",
            "\u001b[1m> Entering new GraphCypherQAChain chain...\u001b[0m\n",
            "Generated Cypher:\n",
            "\u001b[32;1m\u001b[1;3mMATCH (a:Person {id: 'Anne Boleyn'})-[:DAUGHTER|SON*..]->(descendant)\n",
            "RETURN descendant.id\u001b[0m\n",
            "Full Context:\n",
            "\u001b[32;1m\u001b[1;3m[]\u001b[0m\n",
            "\n",
            "\u001b[1m> Finished chain.\u001b[0m\n",
            "{'query': 'Who are the descendants of Anne Boleyn?', 'result': \"I don't have the information to provide a detailed answer on the descendants of Anne Boleyn. However, I can tell you that Anne Boleyn was the second wife of King Henry VIII of England and the mother of Queen Elizabeth I. Unfortunately, she was beheaded in 1536, so she did not have any further descendants.\", 'intermediate_steps': [{'query': \"MATCH (a:Person {id: 'Anne Boleyn'})-[:DAUGHTER|SON*..]->(descendant)\\nRETURN descendant.id\"}, {'context': []}]}\n"
          ]
        }
      ],
      "source": [
        "question_ans(\"Who are the descendants of Anne Boleyn?\")"
      ]
    },
    {
      "cell_type": "code",
      "execution_count": 159,
      "metadata": {
        "colab": {
          "base_uri": "https://localhost:8080/"
        },
        "id": "xfW1RXqVsVz-",
        "outputId": "6a370892-d360-4d68-87c4-212f899177dd"
      },
      "outputs": [
        {
          "name": "stdout",
          "output_type": "stream",
          "text": [
            "\n",
            "\n",
            "\u001b[1m> Entering new GraphCypherQAChain chain...\u001b[0m\n",
            "Generated Cypher:\n",
            "\u001b[32;1m\u001b[1;3mMATCH (mqos:Person)-[r]->(p) WHERE mqos.name = 'Mary, Queen of Scots' RETURN p, type(r)\u001b[0m\n",
            "Full Context:\n",
            "\u001b[32;1m\u001b[1;3m[]\u001b[0m\n",
            "\n",
            "\u001b[1m> Finished chain.\u001b[0m\n",
            "{'query': 'Who is related to Mary, Queen of Scots?', 'result': \"Based on the information provided, I don't have any details about who is related to Mary, Queen of Scots. However, Mary, Queen of Scots, is known to be the cousin of Queen Elizabeth I of England, as they both were descendants of King Henry VII of England.\", 'intermediate_steps': [{'query': \"MATCH (mqos:Person)-[r]->(p) WHERE mqos.name = 'Mary, Queen of Scots' RETURN p, type(r)\"}, {'context': []}]}\n"
          ]
        }
      ],
      "source": [
        "question_ans(\"Who is related to Mary, Queen of Scots?\")"
      ]
    },
    {
      "cell_type": "code",
      "execution_count": 160,
      "metadata": {
        "colab": {
          "base_uri": "https://localhost:8080/"
        },
        "id": "in7lROwlso4O",
        "outputId": "a02cef9f-9eb7-4034-940d-2b7660f01cfc"
      },
      "outputs": [
        {
          "name": "stdout",
          "output_type": "stream",
          "text": [
            "\n",
            "\n",
            "\u001b[1m> Entering new GraphCypherQAChain chain...\u001b[0m\n",
            "Generated Cypher:\n",
            "\u001b[32;1m\u001b[1;3mMATCH (edward:Person)-[:SIBLING]->(sibling)\n",
            "WHERE edward.id = 'Edward_VI'\n",
            "RETURN sibling\u001b[0m\n",
            "Full Context:\n",
            "\u001b[32;1m\u001b[1;3m[]\u001b[0m\n",
            "\n",
            "\u001b[1m> Finished chain.\u001b[0m\n",
            "{'query': 'Who are the siblings of Edward VI?', 'result': 'Edward VI had two sisters, both of them became queens of England. Mary I, also known as Bloody Mary, was the eldest, and Elizabeth I, the Gloriana or the Virgin Queen, was the youngest. There were no brothers.', 'intermediate_steps': [{'query': \"MATCH (edward:Person)-[:SIBLING]->(sibling)\\nWHERE edward.id = 'Edward_VI'\\nRETURN sibling\"}, {'context': []}]}\n"
          ]
        }
      ],
      "source": [
        "question_ans(\"Who are the siblings of Edward VI?\")"
      ]
    },
    {
      "cell_type": "code",
      "execution_count": 161,
      "metadata": {
        "colab": {
          "base_uri": "https://localhost:8080/"
        },
        "id": "8FUREmEEtacV",
        "outputId": "56d9fcc8-6afc-4946-a820-3c6ee868a340"
      },
      "outputs": [
        {
          "name": "stdout",
          "output_type": "stream",
          "text": [
            "\n",
            "\n",
            "\u001b[1m> Entering new GraphCypherQAChain chain...\u001b[0m\n",
            "Generated Cypher:\n",
            "\u001b[32;1m\u001b[1;3mMATCH (p1:Person)-[:SUCCESSOR]->(p2:Person)\n",
            "WHERE p1.name = 'Lady Jane Grey'\n",
            "RETURN p2.name\u001b[0m\n",
            "Full Context:\n",
            "\u001b[32;1m\u001b[1;3m[]\u001b[0m\n",
            "\n",
            "\u001b[1m> Finished chain.\u001b[0m\n",
            "{'query': 'Who is the successor of Lady Jane Grey?', 'result': \"I don't have enough information to provide an accurate answer to your question. The successor of Lady Jane Grey is a topic that requires specific historical knowledge. In this case, it's important to note that Lady Jane Grey was Queen of England for a very brief period in 1553 before being succeeded by Queen Mary I. If you have any additional context or details, I'd be happy to try and help further.\", 'intermediate_steps': [{'query': \"MATCH (p1:Person)-[:SUCCESSOR]->(p2:Person)\\nWHERE p1.name = 'Lady Jane Grey'\\nRETURN p2.name\"}, {'context': []}]}\n"
          ]
        }
      ],
      "source": [
        "question_ans(\"Who is the successor of Lady Jane Grey?\")"
      ]
    },
    {
      "cell_type": "code",
      "execution_count": 164,
      "metadata": {
        "colab": {
          "base_uri": "https://localhost:8080/"
        },
        "id": "0R6Y7XP7ujzR",
        "outputId": "6bac8793-4626-41a7-9f98-d5c3bfb23a79"
      },
      "outputs": [
        {
          "name": "stdout",
          "output_type": "stream",
          "text": [
            "\n",
            "\n",
            "\u001b[1m> Entering new GraphCypherQAChain chain...\u001b[0m\n",
            "Generated Cypher:\n",
            "\u001b[32;1m\u001b[1;3mMATCH (p:Person)-[:CHILD]->(c:Person) WHERE p.id = 'Henry VIII' RETURN c\u001b[0m\n",
            "Full Context:\n",
            "\u001b[32;1m\u001b[1;3m[]\u001b[0m\n",
            "\n",
            "\u001b[1m> Finished chain.\u001b[0m\n",
            "{'query': 'Find all children of Henry VIII', 'result': \"Henry VIII had six children, but not all of them survived to adulthood. His children were as follows:\\n\\n1. Princess Mary, also known as Mary I, born on February 18, 1516. She became the Queen of England after her father's death.\\n2. Henry FitzRoy, Duke of Richmond and Somerset, born on June 15, 1519. He was an illegitimate son of Henry VIII, recognized by the King, but died at a young age of 17.\\n3. Princess Elizabeth, also known as Elizabeth I, born on September 7, 1533. She became the Queen of England after her half-sister Mary I's death.\\n4. Edward, Prince of Wales, later King Edward VI, born on October 12, 1537. He reigned as the King of England after his father's death but passed away in his teenage years.\\n5. A stillborn son, born on October 29, 1538.\\n6. Another stillborn son, born on January 29, 1541.\\n\\nHenry VIII's children played significant roles in English history, particularly his daughters Mary I and Elizabeth I, who both ruled as queens.\", 'intermediate_steps': [{'query': \"MATCH (p:Person)-[:CHILD]->(c:Person) WHERE p.id = 'Henry VIII' RETURN c\"}, {'context': []}]}\n"
          ]
        }
      ],
      "source": [
        "question_ans(\"Find all children of Henry VIII\")"
      ]
    },
    {
      "cell_type": "code",
      "execution_count": 168,
      "metadata": {
        "colab": {
          "base_uri": "https://localhost:8080/"
        },
        "id": "pZih8eRsu8Ra",
        "outputId": "94684a48-b89d-4f5b-b4ee-804d0d31d014"
      },
      "outputs": [
        {
          "name": "stdout",
          "output_type": "stream",
          "text": [
            "\n",
            "\n",
            "\u001b[1m> Entering new GraphCypherQAChain chain...\u001b[0m\n",
            "Generated Cypher:\n",
            "\u001b[32;1m\u001b[1;3mMATCH (p:Person)-[:SPOUSE]->(spouse) WHERE p.id = 'Henry VIII' RETURN spouse\u001b[0m\n",
            "Full Context:\n",
            "\u001b[32;1m\u001b[1;3m[]\u001b[0m\n",
            "\n",
            "\u001b[1m> Finished chain.\u001b[0m\n",
            "{'query': 'Find all spouses of Henry VIII', 'result': \"I don't have enough information to provide an accurate answer to your question. However, I can tell you that Henry VIII, the King of England from 1509 to 1547, had six spouses: Catherine of Aragon, Anne Boleyn, Jane Seymour, Anne of Cleves, Catherine Howard, and Catherine Parr.\", 'intermediate_steps': [{'query': \"MATCH (p:Person)-[:SPOUSE]->(spouse) WHERE p.id = 'Henry VIII' RETURN spouse\"}, {'context': []}]}\n"
          ]
        }
      ],
      "source": [
        "question_ans(\"Find all spouses of Henry VIII\")"
      ]
    },
    {
      "cell_type": "code",
      "execution_count": 170,
      "metadata": {
        "colab": {
          "base_uri": "https://localhost:8080/"
        },
        "id": "2alFavmPvpGf",
        "outputId": "a1793664-47bc-415d-900a-254464ba9b09"
      },
      "outputs": [
        {
          "name": "stdout",
          "output_type": "stream",
          "text": [
            "\n",
            "\n",
            "\u001b[1m> Entering new GraphCypherQAChain chain...\u001b[0m\n",
            "Generated Cypher:\n",
            "\u001b[32;1m\u001b[1;3mMATCH (person:Person)-[:SUCCESSOR]->(successor:Person)\n",
            "WHERE person.id = 'Edward VI'\n",
            "RETURN successor.id\u001b[0m\n",
            "Full Context:\n",
            "\u001b[32;1m\u001b[1;3m[]\u001b[0m\n",
            "\n",
            "\u001b[1m> Finished chain.\u001b[0m\n",
            "{'query': 'Find the successor of Edward VI', 'result': 'I am unable to provide an answer to your question, as I do not have the necessary information. The successor of Edward VI was Lady Jane Grey, but her reign was very short-lived, and she was soon succeeded by Mary I. It is possible that you are asking about a different context or time period. Could you please provide more information to help clarify your question?', 'intermediate_steps': [{'query': \"MATCH (person:Person)-[:SUCCESSOR]->(successor:Person)\\nWHERE person.id = 'Edward VI'\\nRETURN successor.id\"}, {'context': []}]}\n"
          ]
        }
      ],
      "source": [
        "question_ans(\"Find the successor of Edward VI\")"
      ]
    },
    {
      "cell_type": "code",
      "execution_count": 172,
      "metadata": {
        "colab": {
          "base_uri": "https://localhost:8080/"
        },
        "id": "PDUjQCMGuinO",
        "outputId": "81d33200-1a2d-44b2-e229-18c3b1f5b29c"
      },
      "outputs": [
        {
          "name": "stdout",
          "output_type": "stream",
          "text": [
            "\n",
            "\n",
            "\u001b[1m> Entering new GraphCypherQAChain chain...\u001b[0m\n",
            "Generated Cypher:\n",
            "\u001b[32;1m\u001b[1;3mMATCH (:Person {id: 'Elizabeth I'})-[:ADVISOR]->(advisor)\n",
            "RETURN advisor.id, advisor.name\u001b[0m\n",
            "Full Context:\n",
            "\u001b[32;1m\u001b[1;3m[{'advisor.id': 'William Cecil', 'advisor.name': None}, {'advisor.id': 'Sir Francis Walsingham', 'advisor.name': None}]\u001b[0m\n",
            "\n",
            "\u001b[1m> Finished chain.\u001b[0m\n",
            "{'query': 'Who are the advisors of Elizabeth I?', 'result': \"Elizabeth I had several advisors, but I can tell you about two of them. \\n\\nThe first one is William Cecil. He was a trusted advisor and served as the Secretary of State and Lord High Treasurer. \\n\\nThe second advisor is Sir Francis Walsingham. He was a spymaster and principal secretary to the Queen. \\n\\nThese two individuals played significant roles in Elizabeth I's reign.\", 'intermediate_steps': [{'query': \"MATCH (:Person {id: 'Elizabeth I'})-[:ADVISOR]->(advisor)\\nRETURN advisor.id, advisor.name\"}, {'context': [{'advisor.id': 'William Cecil', 'advisor.name': None}, {'advisor.id': 'Sir Francis Walsingham', 'advisor.name': None}]}]}\n"
          ]
        }
      ],
      "source": [
        "question_ans(\"Who are the advisors of Elizabeth I?\")"
      ]
    },
    {
      "cell_type": "code",
      "execution_count": 173,
      "metadata": {
        "colab": {
          "base_uri": "https://localhost:8080/"
        },
        "id": "PTy2JZxTwF0j",
        "outputId": "7849432b-3026-4431-cbb2-6a7055818453"
      },
      "outputs": [
        {
          "name": "stdout",
          "output_type": "stream",
          "text": [
            "\n",
            "\n",
            "\u001b[1m> Entering new GraphCypherQAChain chain...\u001b[0m\n",
            "Generated Cypher:\n",
            "\u001b[32;1m\u001b[1;3mMATCH (p1:Person)-[:PREDECESSOR]->(p2:Person)\n",
            "RETURN p1\u001b[0m\n",
            "Full Context:\n",
            "\u001b[32;1m\u001b[1;3m[{'p1': {'id': 'Mary I'}}]\u001b[0m\n",
            "\n",
            "\u001b[1m> Finished chain.\u001b[0m\n",
            "{'query': 'Find all people who were predecessors to someone', 'result': 'Based on the information provided, the only predecessor to someone I can identify is Mary I. Since there is no information about any other individuals, I cannot provide information on any other predecessors.', 'intermediate_steps': [{'query': 'MATCH (p1:Person)-[:PREDECESSOR]->(p2:Person)\\nRETURN p1'}, {'context': [{'p1': {'id': 'Mary I'}}]}]}\n"
          ]
        }
      ],
      "source": [
        "question_ans(\"Find all people who were predecessors to someone\")"
      ]
    }
  ],
  "metadata": {
    "colab": {
      "provenance": [],
      "toc_visible": true
    },
    "kernelspec": {
      "display_name": "Python 3",
      "name": "python3"
    },
    "language_info": {
      "name": "python"
    }
  },
  "nbformat": 4,
  "nbformat_minor": 0
}
